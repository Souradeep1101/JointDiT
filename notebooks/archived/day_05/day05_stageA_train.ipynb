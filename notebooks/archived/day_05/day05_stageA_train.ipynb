{
 "cells": [
  {
   "cell_type": "markdown",
   "metadata": {},
   "source": [
    "# Day 5 — Stage-A Training (freeze UNets)\n",
    "\n",
    "**Goal:** train only the Joint Blocks + AdaLN while SVD/ALDM2 UNets stay frozen.\n",
    "\n",
    "**This notebook reproduces the Day-5 smoke run** you just executed via `make smoke-day05`.\n",
    "\n",
    "**Repo root:** `/workspace/jointdit`  \n",
    "**Config:** `configs/day05_train.yaml`  \n",
    "**CKPT dir:** `checkpoints/day05_stage_a_*`  \n",
    "\n",
    "**Memory savers used:**\n",
    "- `JOINTDIT_MAX_T=6` (clip frames)\n",
    "- `JOINTDIT_Q_CHUNK_V=128` (chunk attention on video queries)\n",
    "- `JOINTDIT_Q_CHUNK_A=0` (no chunking for audio)\n",
    "- `JOINTDIT_KV_DOWNSAMPLE=4` (downsample K/V bank)\n"
   ]
  },
  {
   "cell_type": "code",
   "execution_count": null,
   "metadata": {},
   "outputs": [],
   "source": [
    "%%bash\n",
    "set -euo pipefail\n",
    "cd /workspace/jointdit\n",
    "echo 'Python:' $(python -V)\n",
    "echo 'CUDA visible:'\n",
    "nvidia-smi || true\n",
    "python - <<'PY'\n",
    "import torch\n",
    "print('torch.cuda.is_available:', torch.cuda.is_available())\n",
    "if torch.cuda.is_available():\n",
    "    print('device:', torch.cuda.get_device_name(0))\n",
    "PY\n"
   ]
  },
  {
   "cell_type": "markdown",
   "metadata": {},
   "source": [
    "## Train (smoke)\n",
    "Runs ~25 steps with mixed precision and the memory-saving attention settings.\n"
   ]
  },
  {
   "cell_type": "code",
   "execution_count": null,
   "metadata": {},
   "outputs": [],
   "source": [
    "%%bash\n",
    "set -euo pipefail\n",
    "cd /workspace/jointdit\n",
    "export JOINTDIT_MAX_T=6\n",
    "export JOINTDIT_Q_CHUNK_V=128\n",
    "export JOINTDIT_Q_CHUNK_A=0\n",
    "export JOINTDIT_KV_DOWNSAMPLE=4\n",
    "make smoke-day05\n"
   ]
  },
  {
   "cell_type": "markdown",
   "metadata": {},
   "source": [
    "## Checkpoints\n",
    "List the final checkpoint produced by the smoke run.\n"
   ]
  },
  {
   "cell_type": "code",
   "execution_count": null,
   "metadata": {},
   "outputs": [],
   "source": [
    "%%bash\n",
    "set -euo pipefail\n",
    "cd /workspace/jointdit\n",
    "ls -lh checkpoints/day05_stage_a_* || true\n"
   ]
  },
  {
   "cell_type": "markdown",
   "metadata": {},
   "source": [
    "## TensorBoard (optional)\n",
    "From a terminal on the VM:\n",
    "```bash\n",
    "cd /workspace/jointdit\n",
    "tensorboard --logdir runs/day05_stage_a_smoke --host 0.0.0.0 --port 6006\n",
    "```\n",
    "Then port-forward or open the service in your environment.\n"
   ]
  }
 ],
 "metadata": {
  "kernelspec": {
   "display_name": "Python 3",
   "language": "python",
   "name": "python3"
  },
  "language_info": {
   "name": "python",
   "version": "3.11"
  }
 },
 "nbformat": 4,
 "nbformat_minor": 5
}
