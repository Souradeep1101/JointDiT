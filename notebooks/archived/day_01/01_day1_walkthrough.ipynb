{
 "cells": [
  {
   "cell_type": "markdown",
   "id": "44edd282",
   "metadata": {},
   "source": [
    "# 01 — Day 1 Walkthrough & Commands\n",
    "\n",
    "This notebook is a reproducible log of what we did on **Day 1**: model probing/patching,\n",
    "repository cleanup, Makefile fixes, and smoke validation. Run cells from the project root.\n",
    "\n",
    "> Tip: replace `/workspace/jointdit` below if your path differs."
   ]
  },
  {
   "cell_type": "code",
   "execution_count": null,
   "id": "83ca8a42",
   "metadata": {},
   "outputs": [],
   "source": [
    "\n",
    "# Project root used throughout this notebook\n",
    "PROJECT_DIR = \"/workspace/jointdit\"\n",
    "print(\"PROJECT_DIR =\", PROJECT_DIR)\n"
   ]
  },
  {
   "cell_type": "markdown",
   "id": "3dc79447",
   "metadata": {},
   "source": [
    "\n",
    "## A) Cross-attention coercion & UNet config alignment\n",
    "\n",
    "We ensured **all cross-attention dims = 1024** and the UNet config matched.\n"
   ]
  },
  {
   "cell_type": "code",
   "execution_count": null,
   "id": "5673fb8c",
   "metadata": {},
   "outputs": [],
   "source": [
    "\n",
    "%%bash\n",
    "set -euo pipefail\n",
    "cd \"${PROJECT_DIR}\"\n",
    "source .venv/bin/activate\n",
    "\n",
    "# Coerce any inconsistent attn2 q/k/v weights to a single cross_attn dim\n",
    "python scripts/aldm2/coerce_aldm2_cross_dim.py \\  --target 1024 \\  --model_dir assets/models/audioldm2/unet\n",
    "\n",
    "# Force cross-attn everywhere in the UNet config (if needed)\n",
    "python scripts/aldm2/force_cross_everywhere.py\n"
   ]
  },
  {
   "cell_type": "markdown",
   "id": "cdaa3eaf",
   "metadata": {},
   "source": [
    "\n",
    "## B) Strict component load (sanity)\n",
    "\n",
    "We strictly loaded the ALDM2 components to catch size mismatches.\n",
    "Expect to see \"unused weights\" warnings because the checkpoint contains extra keys.\n"
   ]
  },
  {
   "cell_type": "code",
   "execution_count": null,
   "id": "485e1c84",
   "metadata": {},
   "outputs": [],
   "source": [
    "\n",
    "%%bash\n",
    "set -euo pipefail\n",
    "cd \"${PROJECT_DIR}\"\n",
    "source .venv/bin/activate\n",
    "\n",
    "# Strict UNet/VAE/cond-model load (keeps shapes honest)\n",
    "python scripts/aldm2/smoke_aldm2_components.py --strict || true\n"
   ]
  },
  {
   "cell_type": "markdown",
   "id": "bf4247dd",
   "metadata": {},
   "source": [
    "\n",
    "## C) Repository tidy-up\n",
    "\n",
    "We grouped scripts under topical subfolders: `scripts/{aldm2, clip, smoke, tools}`.\n"
   ]
  },
  {
   "cell_type": "code",
   "execution_count": null,
   "id": "2399c05a",
   "metadata": {},
   "outputs": [],
   "source": [
    "\n",
    "%%bash\n",
    "set -euo pipefail\n",
    "cd \"${PROJECT_DIR}\"\n",
    "\n",
    "# (If using git) sample moves — idempotent if already moved\n",
    "# git mv scripts/coerce_aldm2_cross_dim.py scripts/aldm2/ || true\n",
    "# git mv scripts/force_cross_everywhere.py   scripts/aldm2/ || true\n",
    "# git mv scripts/smoke_svd_components.py    scripts/smoke/svd_smoke.py || true\n",
    "# git mv scripts/smoke_aldm2_components.py  scripts/smoke/aldm2_smoke.py || true\n",
    "# git commit -m \"organize scripts into subfolders\" || true\n",
    "\n",
    "echo \"Current layout:\"\n",
    "find scripts -maxdepth 2 -type f | sort\n"
   ]
  },
  {
   "cell_type": "markdown",
   "id": "25b1ac30",
   "metadata": {},
   "source": [
    "\n",
    "## D) Makefile fixes & targets\n",
    "\n",
    "Use **tabs** (not spaces) for recipes. We added `smoke-aldm2` and `smoke-svd` targets.\n"
   ]
  },
  {
   "cell_type": "code",
   "execution_count": null,
   "id": "feb7e5d6",
   "metadata": {},
   "outputs": [],
   "source": [
    "\n",
    "%%bash\n",
    "set -euo pipefail\n",
    "cd \"${PROJECT_DIR}\"\n",
    "\n",
    "echo \"Makefile excerpt (grep smoke targets):\"\n",
    "grep -nE 'svd_smoke\\.py|aldm2_smoke\\.py' Makefile || true\n"
   ]
  },
  {
   "cell_type": "markdown",
   "id": "3b03e2e3",
   "metadata": {},
   "source": [
    "\n",
    "Example `Makefile` snippet (for reference):\n",
    "```make\n",
    ".PHONY: smoke-aldm2 smoke-svd smoke\n",
    "\n",
    "smoke-aldm2:\n",
    "\t. .venv/bin/activate && python scripts/smoke/aldm2_smoke.py\n",
    "\n",
    "smoke-svd:\n",
    "\t. .venv/bin/activate && python scripts/smoke/svd_smoke.py\n",
    "\n",
    "smoke: smoke-aldm2 smoke-svd\n",
    "```\n"
   ]
  },
  {
   "cell_type": "markdown",
   "id": "dc0bcd4c",
   "metadata": {},
   "source": [
    "\n",
    "## E) Run smoke tests with recommended CUDA allocator settings\n"
   ]
  },
  {
   "cell_type": "code",
   "execution_count": null,
   "id": "5e9585c8",
   "metadata": {},
   "outputs": [],
   "source": [
    "\n",
    "%%bash\n",
    "set -euo pipefail\n",
    "cd \"${PROJECT_DIR}\"\n",
    "source .venv/bin/activate\n",
    "\n",
    "export PYTORCH_CUDA_ALLOC_CONF=expandable_segments:true,max_split_size_mb:128\n",
    "echo \"PYTORCH_CUDA_ALLOC_CONF=$PYTORCH_CUDA_ALLOC_CONF\"\n",
    "\n",
    "# Via Makefile (preferred):\n",
    "make smoke-svd\n",
    "make smoke-aldm2\n"
   ]
  },
  {
   "cell_type": "markdown",
   "id": "222066e9",
   "metadata": {},
   "source": [
    "\n",
    "## F) Expected smoke output cues\n",
    "\n",
    "- Long list of **unused weights** → expected.\n",
    "- `VAE scale = 4` (or 8 depending on model variant).\n",
    "- Latent shape like `(1, 8, 80, 192)` and decoded spectrogram matching expected size\n",
    "  `(1, 1, 320, 768)` for the current configs.\n",
    "  \n",
    "If these differ wildly or exceptions are raised, capture the logs and investigate.\n"
   ]
  }
 ],
 "metadata": {},
 "nbformat": 4,
 "nbformat_minor": 5
}
