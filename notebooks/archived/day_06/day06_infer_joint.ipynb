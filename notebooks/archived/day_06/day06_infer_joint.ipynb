{
 "cells": [
  {
   "cell_type": "markdown",
   "id": "7fb27b941602401d91542211134fc71a",
   "metadata": {},
   "source": [
    "# Day 6 — Joint Inference (video + audio)\n",
    "\n",
    "This notebook runs the Day-6 inference scaffold:\n",
    "- Loads **JointDiT** (fp32 params) + cached shapes from a reference meta file\n",
    "- Samples with simple ancestral steps (log-spaced sigmas)\n",
    "- Decodes video via **SVD VAE (Temporal Decoder)** and audio via **AudioLDM2 VAE**\n",
    "- Inverts mel to waveform (torchaudio Griffin-Lim), with louder defaults + peak-norm\n",
    "- Writes MP4 + WAV; optionally muxes audio into MP4 if `ffmpeg` is present\n"
   ]
  },
  {
   "cell_type": "code",
   "execution_count": null,
   "id": "acae54e37e7d407bbb7b55eff062a284",
   "metadata": {},
   "outputs": [],
   "source": [
    "# Setup & environment knobs\n",
    "import os\n",
    "import subprocess\n",
    "import sys\n",
    "from pathlib import Path\n",
    "\n",
    "repo = Path.cwd()\n",
    "assert (repo / 'scripts' / 'infer' / 'infer_joint.py').exists(), 'Run from repo root (/workspace/jointdit)'\n",
    "\n",
    "# Memory-savvy defaults (safe values used in Day 5/6)\n",
    "os.environ.setdefault('JOINTDIT_Q_CHUNK_V', '128')\n",
    "os.environ.setdefault('JOINTDIT_Q_CHUNK_A', '0')\n",
    "os.environ.setdefault('JOINTDIT_KV_DOWNSAMPLE', '4')\n",
    "os.environ.setdefault('PYTORCH_CUDA_ALLOC_CONF', 'max_split_size_mb:128')\n",
    "\n",
    "# Louder audio defaults (can tweak per run)\n",
    "os.environ.setdefault('JOINTDIT_MEL_DB_RANGE', '70')  # 60..80 typical\n",
    "os.environ.setdefault('JOINTDIT_AUDIO_GAIN_DB', '3') # extra boost (dB)\n",
    "\n",
    "print('env:', {k: os.environ[k] for k in os.environ if k.startswith('JOINTDIT_') or k=='PYTORCH_CUDA_ALLOC_CONF'})\n"
   ]
  },
  {
   "cell_type": "markdown",
   "id": "9a63283cbaf04dbcab1f6479b197f3a8",
   "metadata": {},
   "source": [
    "## Inspect Day-6 config\n",
    "We point inference at `configs/day06_infer.yaml` (created during the Day-6 step)."
   ]
  },
  {
   "cell_type": "code",
   "execution_count": null,
   "id": "8dd0d8092fe74a7c96281538738b07e2",
   "metadata": {},
   "outputs": [],
   "source": [
    "print(Path('configs/day06_infer.yaml').read_text())\n"
   ]
  },
  {
   "cell_type": "markdown",
   "id": "72eea5119410473aa328ad9291626812",
   "metadata": {},
   "source": [
    "## Run inference\n",
    "Equivalent to the Make target `make smoke-day06` but invoked inline for visibility."
   ]
  },
  {
   "cell_type": "code",
   "execution_count": null,
   "id": "8edb47106e1a46a883d545849b8ab81b",
   "metadata": {},
   "outputs": [],
   "source": [
    "cmd = [sys.executable, 'scripts/infer/infer_joint.py', '--cfg', 'configs/day06_infer.yaml']\n",
    "print('Running:', ' '.join(cmd))\n",
    "subprocess.run(cmd, check=True)\n"
   ]
  },
  {
   "cell_type": "markdown",
   "id": "10185d26023b46108eb7d9f57d49d2b3",
   "metadata": {},
   "source": [
    "## Outputs\n",
    "MP4s and WAVs land in `outputs/day06/`. If `ffmpeg` is installed, an `*_av.mp4` with muxed audio may also be written."
   ]
  },
  {
   "cell_type": "code",
   "execution_count": null,
   "id": "8763a12b2bbd4a93a75aff182afb95dc",
   "metadata": {},
   "outputs": [],
   "source": [
    "outdir = Path('outputs/day06')\n",
    "outdir.mkdir(parents=True, exist_ok=True)\n",
    "print('\\n'.join(sorted(str(p) for p in outdir.glob('*'))))\n"
   ]
  },
  {
   "cell_type": "markdown",
   "id": "7623eae2785240b9bd12b16a66d81610",
   "metadata": {},
   "source": [
    "## Troubleshooting quickies\n",
    "- **`expandable_segments` crash**: don’t set it; use `PYTORCH_CUDA_ALLOC_CONF=\"max_split_size_mb:128\"` only.\n",
    "- **Temporal VAE `decode()`**: requires `num_frames=1` when using `AutoencoderKLTemporalDecoder`.\n",
    "- **dtype mismatch (Half vs Float)**: keep model & VAEs in **fp32** for inference in this scaffold.\n",
    "- **Silent WAV**: raise loudness:\n",
    "  ```bash\n",
    "  export JOINTDIT_MEL_DB_RANGE=80\n",
    "  export JOINTDIT_AUDIO_GAIN_DB=6\n",
    "  ```\n"
   ]
  }
 ],
 "metadata": {
  "kernelspec": {
   "display_name": "Python 3",
   "language": "python",
   "name": "python3"
  },
  "language_info": {
   "name": "python",
   "version": "3.11"
  }
 },
 "nbformat": 4,
 "nbformat_minor": 5
}
