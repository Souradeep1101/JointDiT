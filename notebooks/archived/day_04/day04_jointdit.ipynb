{
 "cells": [
  {
   "cell_type": "markdown",
   "id": "7fb27b941602401d91542211134fc71a",
   "metadata": {},
   "source": [
    "# Day 4 — JointDiT skeleton (assembly + smoke)\n",
    "\n",
    "**Goal:** wire up the minimal JointDiT (Input → N×JointBlocks → Output), confirm end-to-end shapes, and validate the three modes (`full`, `iso_v`, `iso_a`).\n",
    "\n",
    "**What this notebook does**\n",
    "1. Activates the project root and environment assumptions\n",
    "2. Runs the Day-4 smoke (`scripts/smoke/day04_joint_smoke.py`)\n",
    "3. (Optional) Direct import smoke: instantiates `JointDiT` and forwards dummy latents\n",
    "4. Records a tiny smoke snapshot (`notebooks/day_04/smoke_log.json`) for traceability\n",
    "\n",
    "> If you hit a dtype mismatch (`Half vs Float`), see the *Troubleshooting* cell below — we pin the model to fp16 for the smoke to match fp16 inputs."
   ]
  },
  {
   "cell_type": "code",
   "execution_count": null,
   "id": "acae54e37e7d407bbb7b55eff062a284",
   "metadata": {},
   "outputs": [],
   "source": [
    "import json\n",
    "import os\n",
    "import platform\n",
    "import subprocess\n",
    "import sys\n",
    "import time\n",
    "from pathlib import Path\n",
    "\n",
    "ROOT = Path('/workspace/jointdit')\n",
    "assert ROOT.exists(), f\"Project root not found: {ROOT}\"\n",
    "os.chdir(ROOT)\n",
    "print('cwd =', Path.cwd())\n",
    "print('python =', sys.version)\n",
    "print('platform =', platform.platform())\n",
    "\n",
    "try:\n",
    "    import torch\n",
    "    print('torch =', torch.__version__, '| cuda =', torch.cuda.is_available())\n",
    "    if torch.cuda.is_available():\n",
    "        print('gpu =', torch.cuda.get_device_name(0))\n",
    "except Exception as e:\n",
    "    print('[warn] torch not available:', e)"
   ]
  },
  {
   "cell_type": "markdown",
   "id": "9a63283cbaf04dbcab1f6479b197f3a8",
   "metadata": {},
   "source": [
    "## Run the Day-4 smoke script\n",
    "Runs the exact command we use via `make smoke-day04`."
   ]
  },
  {
   "cell_type": "code",
   "execution_count": null,
   "id": "8dd0d8092fe74a7c96281538738b07e2",
   "metadata": {},
   "outputs": [],
   "source": [
    "env = os.environ.copy()\n",
    "env['PYTHONPATH'] = str(ROOT)\n",
    "cmd = [sys.executable, 'scripts/smoke/day04_joint_smoke.py']\n",
    "print('> ', ' '.join(cmd))\n",
    "res = subprocess.run(cmd, env=env, capture_output=True, text=True)\n",
    "print(res.stdout)\n",
    "if res.returncode != 0:\n",
    "    print(res.stderr)\n",
    "    raise SystemExit(res.returncode)"
   ]
  },
  {
   "cell_type": "markdown",
   "id": "72eea5119410473aa328ad9291626812",
   "metadata": {},
   "source": [
    "## Optional: direct import smoke\n",
    "Instantiate `JointDiT` and feed dummy latents to verify shapes without the standalone script."
   ]
  },
  {
   "cell_type": "code",
   "execution_count": null,
   "id": "8edb47106e1a46a883d545849b8ab81b",
   "metadata": {},
   "outputs": [],
   "source": [
    "import torch\n",
    "\n",
    "from models.jointdit import JointDiT\n",
    "\n",
    "device = 'cuda' if torch.cuda.is_available() else 'cpu'\n",
    "use_fp16 = True if device=='cuda' else False\n",
    "dtype = torch.float16 if use_fp16 else torch.float32\n",
    "\n",
    "# dummy latents (match smoke):\n",
    "B = 1; Tv = 12; Cv = 4; Hv = 40; Wv = 53\n",
    "Ta = 8; Ca = 8; Ha = 20; Wa = 15\n",
    "v = torch.randn(B, Tv, Cv, Hv, Wv, device=device, dtype=dtype)\n",
    "a = torch.randn(B, Ca, Ha, Wa, device=device, dtype=dtype)\n",
    "\n",
    "joint = JointDiT(\n",
    "    d_model=256, heads=8, ff_mult=4, dropout=0.0,\n",
    "    rope_cfg={\n",
    "        'video': {'type': 'rope_3d', 'theta': 10000.0},\n",
    "        'audio': {'type': 'rope_2d', 'theta': 10000.0}\n",
    "    },\n",
    "    video_in_ch=Cv,\n",
    "    audio_in_ch=Ca,\n",
    "    joint_blocks=2,\n",
    "    svd_slicer=None,\n",
    "    aldm_slicer=None,\n",
    ").to(device)\n",
    "if use_fp16:\n",
    "    joint = joint.half()\n",
    "joint.eval()\n",
    "\n",
    "for mode in ['full','iso_v','iso_a']:\n",
    "    with torch.inference_mode():\n",
    "        v_out, a_out = joint(v, a, mode=mode)\n",
    "    print(f\"mode={mode:>5}  v_out={tuple(v_out.shape)}  a_out={tuple(a_out.shape)}  nan/inf={bool(torch.isnan(v_out).any() or torch.isinf(v_out).any())}\")"
   ]
  },
  {
   "cell_type": "markdown",
   "id": "10185d26023b46108eb7d9f57d49d2b3",
   "metadata": {},
   "source": [
    "## Troubleshooting: dtype mismatch (`Half` vs `Float`)\n",
    "If you see `RuntimeError: mat1 and mat2 must have the same dtype, but got Half and Float`, it means inputs are fp16 but model weights are fp32.\n",
    "\n",
    "Two fixes:\n",
    "1) Cast the model to half (used here): `joint = joint.half()`\n",
    "2) Or keep weights fp32 and enable autocast around the forward call."
   ]
  },
  {
   "cell_type": "code",
   "execution_count": null,
   "id": "8763a12b2bbd4a93a75aff182afb95dc",
   "metadata": {},
   "outputs": [],
   "source": [
    "# Example: autocast path instead of model.half()\n",
    "import contextlib\n",
    "\n",
    "from torch.amp import autocast\n",
    "\n",
    "if device=='cuda':\n",
    "    with contextlib.ExitStack() as stack:\n",
    "        stack.enter_context(autocast('cuda'))\n",
    "        with torch.inference_mode():\n",
    "            _v, _a = joint(v, a, mode='full')\n",
    "    print('autocast smoke ok →', tuple(_v.shape), tuple(_a.shape))\n",
    "else:\n",
    "    print('CPU run — autocast not required')"
   ]
  },
  {
   "cell_type": "markdown",
   "id": "7623eae2785240b9bd12b16a66d81610",
   "metadata": {},
   "source": [
    "## Save a tiny smoke log\n",
    "Writes a JSON with shapes + timestamp so we can trace re-runs later."
   ]
  },
  {
   "cell_type": "code",
   "execution_count": null,
   "id": "7cdc8c89c7104fffa095e18ddfef8986",
   "metadata": {},
   "outputs": [],
   "source": [
    "out_dir = Path('notebooks/day_04')\n",
    "out_dir.mkdir(parents=True, exist_ok=True)\n",
    "log = {\n",
    "    'ts': time.strftime('%Y-%m-%d %H:%M:%S'),\n",
    "    'shapes': {\n",
    "        'v_in': [B, Tv, Cv, Hv, Wv],\n",
    "        'a_in': [B, Ca, Ha, Wa]\n",
    "    },\n",
    "    'config': {\n",
    "        'd_model': 256, 'heads': 8, 'ff_mult': 4, 'blocks': 2,\n",
    "        'rope': {'video': 'rope_3d', 'audio': 'rope_2d'}\n",
    "    }\n",
    "}\n",
    "Path(out_dir/'smoke_log.json').write_text(json.dumps(log, indent=2))\n",
    "print('wrote', out_dir/'smoke_log.json')"
   ]
  }
 ],
 "metadata": {
  "kernelspec": {
   "display_name": "Python 3",
   "language": "python",
   "name": "python3"
  },
  "language_info": {
   "name": "python",
   "version": "3.11"
  }
 },
 "nbformat": 4,
 "nbformat_minor": 5
}
