{
 "cells": [
  {
   "cell_type": "markdown",
   "id": "7fb27b941602401d91542211134fc71a",
   "metadata": {},
   "source": [
    "# Day 2 — Data caching & smoke checks\n",
    "\n",
    "This notebook reproduces Day-2 steps:\n",
    "1) cache video/audio latents (SVD VAE + AudioLDM2 VAE),\n",
    "2) run the smoke check over the cached items,\n",
    "3) quickly inspect shapes and a first frame."
   ]
  },
  {
   "cell_type": "code",
   "execution_count": null,
   "id": "acae54e37e7d407bbb7b55eff062a284",
   "metadata": {},
   "outputs": [],
   "source": [
    "import platform\n",
    "from pathlib import Path\n",
    "\n",
    "import torch\n",
    "import yaml\n",
    "\n",
    "BASE = Path('/workspace/jointdit').resolve()\n",
    "print('Repo base:', BASE)\n",
    "print('Python:', platform.python_version())\n",
    "print('PyTorch:', torch.__version__)"
   ]
  },
  {
   "cell_type": "code",
   "execution_count": null,
   "id": "9a63283cbaf04dbcab1f6479b197f3a8",
   "metadata": {},
   "outputs": [],
   "source": [
    "cfg_path = BASE / 'configs/day02_cache.yaml'\n",
    "with open(cfg_path, 'r') as f:\n",
    "    cfg = yaml.safe_load(f)\n",
    "cfg"
   ]
  },
  {
   "cell_type": "markdown",
   "id": "8dd0d8092fe74a7c96281538738b07e2",
   "metadata": {},
   "source": [
    "## Cache latents (train & val)\n",
    "Uses Makefile targets so the CLI is identical to the README."
   ]
  },
  {
   "cell_type": "code",
   "execution_count": null,
   "id": "72eea5119410473aa328ad9291626812",
   "metadata": {},
   "outputs": [],
   "source": [
    "import subprocess\n",
    "\n",
    "\n",
    "def run(cmd):\n",
    "    print(f\"\\n$ {cmd}\")\n",
    "    subprocess.run(cmd, shell=True, check=True, cwd=BASE)\n",
    "\n",
    "run('make cache-train')\n",
    "run('make cache-val')"
   ]
  },
  {
   "cell_type": "markdown",
   "id": "8edb47106e1a46a883d545849b8ab81b",
   "metadata": {},
   "source": [
    "## Smoke check (dataset view)\n",
    "Prints shapes, frame counts, and first-frame path."
   ]
  },
  {
   "cell_type": "code",
   "execution_count": null,
   "id": "10185d26023b46108eb7d9f57d49d2b3",
   "metadata": {},
   "outputs": [],
   "source": [
    "from data_loader.jointdit_dataset import JointDiTDataset\n",
    "\n",
    "ds = JointDiTDataset(str(BASE/'data/cache'), split='train')\n",
    "print('[dataset] len(train)=', len(ds))\n",
    "for i in range(min(3, len(ds))):\n",
    "    ex = ds[i]\n",
    "    v_lat = ex['video_latents']['latents']\n",
    "    a_lat = ex['audio_latents']['latents']\n",
    "    print(f\"- {i}: frames={ex['frame_count']} v_lat={tuple(v_lat.shape)} a_lat={tuple(a_lat.shape)} clip={ex['clip'] is not None}\")\n",
    "    print('  img_firstframe=', ex['img_firstframe'])"
   ]
  },
  {
   "cell_type": "markdown",
   "id": "8763a12b2bbd4a93a75aff182afb95dc",
   "metadata": {},
   "source": [
    "## Visualize first frame (quick sanity)"
   ]
  },
  {
   "cell_type": "code",
   "execution_count": null,
   "id": "7623eae2785240b9bd12b16a66d81610",
   "metadata": {},
   "outputs": [],
   "source": [
    "import matplotlib.pyplot as plt\n",
    "from PIL import Image\n",
    "\n",
    "if len(ds):\n",
    "    ex0 = ds[0]\n",
    "    img = Image.open(ex0['img_firstframe']).convert('RGB')\n",
    "    plt.figure(figsize=(4,3))\n",
    "    plt.title('Train[0] first frame')\n",
    "    plt.imshow(img)\n",
    "    plt.axis('off')\n",
    "else:\n",
    "    print('Dataset is empty — run the cache steps first.')"
   ]
  }
 ],
 "metadata": {
  "kernelspec": {
   "display_name": "Python 3",
   "language": "python",
   "name": "python3"
  },
  "language_info": {
   "name": "python",
   "version": "3.x"
  }
 },
 "nbformat": 4,
 "nbformat_minor": 5
}
