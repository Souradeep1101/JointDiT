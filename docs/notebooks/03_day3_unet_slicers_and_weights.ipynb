{
 "cells": [
  {
   "cell_type": "markdown",
   "metadata": {},
   "source": [
    "# Day 3 — UNet Slicers & Partial Real-Weights Load\n",
    "\n",
    "This notebook mirrors the Day-3 smoke test you ran from the CLI, but keeps a reproducible, runnable record here.\n",
    "\n",
    "**Goals**\n",
    "1. Verify cached shapes from Day-2 (video/audio latents).\n",
    "2. Instantiate UNet slicers for SVD & AudioLDM2.\n",
    "3. Load *real ALDM2 UNet weights* (with config patch) and confirm shapes flow.\n",
    "\n",
    "**Key script:** `scripts/smoke/day03_slicers_smoke.py` (called via `make smoke-day03`)."
   ]
  },
  {
   "cell_type": "code",
   "execution_count": null,
   "metadata": {},
   "outputs": [],
   "source": [
    "# Env check + switch to repo root",
    "import os, sys, subprocess, json, pathlib, platform",
    "import torch",
    "",
    "ROOT = \"/workspace/jointdit\"",
    "os.chdir(ROOT)",
    "print(\"CWD:\", os.getcwd())",
    "print(\"Python:\", sys.version.split(\" \")[0], \"on\", platform.platform())",
    "print(\"Torch:\", torch.__version__, \"CUDA:\", torch.cuda.is_available())",
    "if torch.cuda.is_available():",
    "    print(\"GPU:\", torch.cuda.get_device_name(0))"
   ]
  },
  {
   "cell_type": "markdown",
   "metadata": {},
   "source": [
    "## Optional: Mirror real ALDM2 UNet weights locally\n",
    "- If you want to re-download the **real** `cvssp/audioldm2` UNet to the assets folder, set `DO_MIRROR=True` below.\n",
    "- If you've already mirrored & edited `cross_attention_dim` in the JSON (to a scalar, e.g. `1024`), leave this as-is."
   ]
  },
  {
   "cell_type": "code",
   "execution_count": null,
   "metadata": {},
   "outputs": [],
   "source": [
    "DO_MIRROR = False  # set True to (re)mirror",
    "if DO_MIRROR:",
    "    from diffusers import UNet2DConditionModel",
    "    mdl_id = \"cvssp/audioldm2\"",
    "    print(\"Downloading UNet from:\", mdl_id)",
    "    unet = UNet2DConditionModel.from_pretrained(mdl_id, subfolder=\"unet\")",
    "    out = f\"{ROOT}/assets/models/audioldm2/unet\"",
    "    pathlib.Path(out).mkdir(parents=True, exist_ok=True)",
    "    unet.save_pretrained(out)",
    "    print(\"Saved to:\", out)",
    "else:",
    "    print(\"Skipping mirror; using paths in configs/day03_models.yaml\")"
   ]
  },
  {
   "cell_type": "markdown",
   "metadata": {},
   "source": [
    "## Run the Day-3 slicer smoke\n",
    "This executes `make smoke-day03`, which loads SVD & AudioLDM2 UNets (with config patch), prints param counts, and passes shape-through checks."
   ]
  },
  {
   "cell_type": "code",
   "execution_count": null,
   "metadata": {},
   "outputs": [],
   "source": [
    "import os, subprocess",
    "os.chdir(ROOT)",
    "env = os.environ.copy()",
    "env[\"PYTHONPATH\"] = \".\"",
    "proc = subprocess.run([\"bash\",\"-lc\",\"make smoke-day03\"], capture_output=True, text=True, env=env)",
    "print(proc.stdout)",
    "print(proc.stderr)",
    "print(\"Return code:\", proc.returncode)",
    "assert proc.returncode == 0, \"Smoke failed — check stderr above.\""
   ]
  },
  {
   "cell_type": "markdown",
   "metadata": {},
   "source": [
    "### Expected signals\n",
    "- Lines like:\n",
    "  - `[ALDM2][realweights] loaded 688/688 tensors | mismatched: 832 | missing: 0`\n",
    "  - `[SVD] input→(T, C, H, W) → ... (same)` and `[ALDM2] input→... (same)`\n",
    "- Final line: `[OK] Day-3 slicer scaffold is healthy (shapes preserved, params present).`\n",
    "\n",
    "If you see config errors about `cross_attention_dim` being a list, fix by editing the mirrored UNet config JSON at:\n",
    "`/workspace/jointdit/assets/models/audioldm2/unet/config.json` → set `\"cross_attention_dim\": 1024` (or 768) as a single integer."
   ]
  }
 ],
 "metadata": {
  "kernelspec": {
   "display_name": "Python 3",
   "language": "python",
   "name": "python3"
  },
  "language_info": {
   "name": "python",
   "version": "3.11"
  }
 },
 "nbformat": 4,
 "nbformat_minor": 5
}
