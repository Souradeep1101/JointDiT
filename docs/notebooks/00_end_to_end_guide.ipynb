{
 "cells": [
  {
   "cell_type": "markdown",
   "id": "7fb27b941602401d91542211134fc71a",
   "metadata": {},
   "source": [
    "# JointDiT — End-to-End Guide\n",
    "\n",
    "This notebook walks you through **latent caching → training (Stage-A/B) → inference** using the repo scripts.\n",
    "You can run cells sequentially or copy/paste commands into your terminal."
   ]
  },
  {
   "cell_type": "code",
   "execution_count": null,
   "id": "acae54e37e7d407bbb7b55eff062a284",
   "metadata": {},
   "outputs": [],
   "source": [
    "import os\n",
    "import pathlib\n",
    "import platform\n",
    "\n",
    "import torch\n",
    "\n",
    "print('Python:', platform.python_version())\n",
    "print('CUDA available:', torch.cuda.is_available())\n",
    "if torch.cuda.is_available():\n",
    "    print('GPU:', torch.cuda.get_device_name(0))\n",
    "print('Repo root:', pathlib.Path('.').resolve())"
   ]
  },
  {
   "cell_type": "markdown",
   "id": "9a63283cbaf04dbcab1f6479b197f3a8",
   "metadata": {},
   "source": [
    "## 1) Cache latents (Day 2)\n",
    "Make sure your raw videos exist under the paths referenced by `configs/day02_cache.yaml`."
   ]
  },
  {
   "cell_type": "code",
   "execution_count": null,
   "id": "8dd0d8092fe74a7c96281538738b07e2",
   "metadata": {},
   "outputs": [],
   "source": [
    "%%bash\n",
    "set -euo pipefail\n",
    "source .venv/bin/activate\n",
    "PYTHONPATH=. python scripts/data/cache_latents.py --cfg configs/day02_cache.yaml --split train\n",
    "PYTHONPATH=. python scripts/data/cache_latents.py --cfg configs/day02_cache.yaml --split val"
   ]
  },
  {
   "cell_type": "markdown",
   "id": "72eea5119410473aa328ad9291626812",
   "metadata": {},
   "source": [
    "## 2) Choose VRAM profile (exports)\n",
    "Pick a row below (you can tweak later):"
   ]
  },
  {
   "cell_type": "code",
   "execution_count": null,
   "id": "8edb47106e1a46a883d545849b8ab81b",
   "metadata": {},
   "outputs": [],
   "source": [
    "# ~48GB profile (safe) — adjust as needed\n",
    "os.environ['PYTORCH_CUDA_ALLOC_CONF'] = 'max_split_size_mb:128'\n",
    "os.environ['JOINTDIT_MAX_T'] = '6'\n",
    "os.environ['JOINTDIT_Q_CHUNK_V'] = '64'\n",
    "os.environ['JOINTDIT_Q_CHUNK_A'] = '0'\n",
    "os.environ['JOINTDIT_KV_DOWNSAMPLE'] = '8'\n",
    "os.environ['FORCE_KEEP_USER_ENVS'] = '1'\n",
    "print({k: os.environ[k] for k in ['PYTORCH_CUDA_ALLOC_CONF','JOINTDIT_MAX_T','JOINTDIT_Q_CHUNK_V','JOINTDIT_Q_CHUNK_A','JOINTDIT_KV_DOWNSAMPLE','FORCE_KEEP_USER_ENVS']})"
   ]
  },
  {
   "cell_type": "markdown",
   "id": "10185d26023b46108eb7d9f57d49d2b3",
   "metadata": {},
   "source": [
    "## 3) Train — Stage A (Day 5)\n",
    "Small smoke run — bump `--max-steps` for real training."
   ]
  },
  {
   "cell_type": "code",
   "execution_count": null,
   "id": "8763a12b2bbd4a93a75aff182afb95dc",
   "metadata": {},
   "outputs": [],
   "source": [
    "%%bash\n",
    "set -euo pipefail\n",
    "source .venv/bin/activate\n",
    "PYTHONPATH=. python scripts/train/train_stage_a.py \\\n",
    "  --cfg configs/day05_train.yaml \\\n",
    "  --max-steps 25 \\\n",
    "  --ckpt-suffix nbA \\\n",
    "  --log-suffix nbA"
   ]
  },
  {
   "cell_type": "markdown",
   "id": "7623eae2785240b9bd12b16a66d81610",
   "metadata": {},
   "source": [
    "## 4) Train — Stage B (Day 7)\n",
    "Fine-tune experts + in/out. Adjust `--max-steps`."
   ]
  },
  {
   "cell_type": "code",
   "execution_count": null,
   "id": "7cdc8c89c7104fffa095e18ddfef8986",
   "metadata": {},
   "outputs": [],
   "source": [
    "%%bash\n",
    "set -euo pipefail\n",
    "source .venv/bin/activate\n",
    "PYTHONPATH=. python scripts/train/train_stage_b.py \\\n",
    "  --cfg configs/day07_trainB.yaml \\\n",
    "  --max-steps 100 \\\n",
    "  --ckpt-suffix nbB \\\n",
    "  --log-suffix nbB"
   ]
  },
  {
   "cell_type": "markdown",
   "id": "b118ea5561624da68c537baed56e602f",
   "metadata": {},
   "source": [
    "## 5) Inference (Day 6 sampler)\n",
    "Edit `configs/day06_infer.yaml` if you want to point at your Stage-B ckpt and set seeds/steps.\n",
    "This will write MP4 + WAV under `outputs/day06/`."
   ]
  },
  {
   "cell_type": "code",
   "execution_count": null,
   "id": "938c804e27f84196a10c8828c723f798",
   "metadata": {},
   "outputs": [],
   "source": [
    "%%bash\n",
    "set -euo pipefail\n",
    "source .venv/bin/activate\n",
    "PYTHONPATH=. python scripts/infer/infer_joint.py --cfg configs/day06_infer.yaml"
   ]
  },
  {
   "cell_type": "markdown",
   "id": "504fb2a444614c0babb325280ed9130a",
   "metadata": {},
   "source": [
    "## 6) Inspect outputs"
   ]
  },
  {
   "cell_type": "code",
   "execution_count": null,
   "id": "59bbdb311c014d738909a11f9e486628",
   "metadata": {},
   "outputs": [],
   "source": [
    "import pathlib\n",
    "\n",
    "out = pathlib.Path('outputs/day06')\n",
    "list(sorted(str(p) for p in out.glob('*')))[:20]"
   ]
  }
 ],
 "metadata": {
  "kernelspec": {
   "display_name": "Python 3",
   "language": "python",
   "name": "python3"
  },
  "language_info": {
   "name": "python",
   "pygments_lexer": "ipython3"
  }
 },
 "nbformat": 4,
 "nbformat_minor": 5
}
