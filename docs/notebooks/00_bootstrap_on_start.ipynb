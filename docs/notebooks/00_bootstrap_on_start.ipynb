{
 "cells": [
  {
   "cell_type": "markdown",
   "id": "90871359",
   "metadata": {},
   "source": [
    "# 00 — Bootstrap on Start (RunPod / fresh machine)\n",
    "\n",
    "This notebook is the **quick-start checklist** to rehydrate the environment after a restart.\n",
    "It’s designed to be safe to re-run. Adjust `PROJECT_DIR` below if your repo lives elsewhere."
   ]
  },
  {
   "cell_type": "code",
   "execution_count": null,
   "id": "cf9fc2d7",
   "metadata": {},
   "outputs": [],
   "source": [
    "\n",
    "# Set your project root (adjust if needed)\n",
    "PROJECT_DIR = \"/workspace/jointdit\"\n",
    "print(\"PROJECT_DIR =\", PROJECT_DIR)\n"
   ]
  },
  {
   "cell_type": "markdown",
   "id": "bce63c0d",
   "metadata": {},
   "source": [
    "\n",
    "## 1) (Optional) Create/activate virtualenv and install deps\n",
    "\n",
    "Skip if your `.venv` already exists. If you run these in a raw Jupyter kernel, you may\n",
    "prefer executing them in a terminal instead.\n"
   ]
  },
  {
   "cell_type": "code",
   "execution_count": null,
   "id": "972d2ab8",
   "metadata": {},
   "outputs": [],
   "source": [
    "\n",
    "%%bash\n",
    "set -euo pipefail\n",
    "cd \"${PROJECT_DIR}\"\n",
    "\n",
    "# Create venv if missing\n",
    "if [ ! -d .venv ]; then\n",
    "  python3 -m venv .venv\n",
    "fi\n",
    "\n",
    "# Activate & install (idempotent)\n",
    "source .venv/bin/activate\n",
    "python --version\n",
    "pip install --upgrade pip\n",
    "# If your project uses pyproject.toml / editable installs:\n",
    "# pip install -e .\n"
   ]
  },
  {
   "cell_type": "markdown",
   "id": "ffce5b3b",
   "metadata": {},
   "source": [
    "\n",
    "## 2) Basic system sanity\n"
   ]
  },
  {
   "cell_type": "code",
   "execution_count": null,
   "id": "2647f626",
   "metadata": {},
   "outputs": [],
   "source": [
    "\n",
    "%%bash\n",
    "set -euo pipefail\n",
    "cd \"${PROJECT_DIR}\"\n",
    "\n",
    "# Activate env for the rest of this cell\n",
    "source .venv/bin/activate || true\n",
    "\n",
    "echo \"Python:\" $(python --version)\n",
    "echo \"Pip:\" $(pip --version)\n",
    "\n",
    "echo \"CUDA / GPU (ok if this fails locally):\"\n",
    "nvidia-smi || echo \"No GPU visible.\"\n",
    "\n",
    "echo \"Torch CUDA build:\"\n",
    "python - <<'PY'\n",
    "try:\n",
    "    import torch\n",
    "    print(\"torch\", torch.__version__, \"cuda?\", torch.cuda.is_available())\n",
    "    if torch.cuda.is_available():\n",
    "        print(\"CUDA device:\", torch.cuda.get_device_name(0))\n",
    "except Exception as e:\n",
    "    print(\"Torch import error:\", e)\n",
    "PY\n"
   ]
  },
  {
   "cell_type": "markdown",
   "id": "4296974f",
   "metadata": {},
   "source": [
    "\n",
    "## 3) Recommended env vars for PyTorch memory\n"
   ]
  },
  {
   "cell_type": "code",
   "execution_count": null,
   "id": "5ae9396a",
   "metadata": {},
   "outputs": [],
   "source": [
    "\n",
    "%%bash\n",
    "set -euo pipefail\n",
    "cd \"${PROJECT_DIR}\"\n",
    "source .venv/bin/activate\n",
    "\n",
    "export PYTORCH_CUDA_ALLOC_CONF=expandable_segments:true,max_split_size_mb:128\n",
    "echo \"PYTORCH_CUDA_ALLOC_CONF=$PYTORCH_CUDA_ALLOC_CONF\"\n"
   ]
  },
  {
   "cell_type": "markdown",
   "id": "c70b9f9a",
   "metadata": {},
   "source": [
    "\n",
    "## 4) Quick model/layout checks\n",
    "These mirror what we validated during smoke tests.\n"
   ]
  },
  {
   "cell_type": "code",
   "execution_count": null,
   "id": "9f266088",
   "metadata": {},
   "outputs": [],
   "source": [
    "\n",
    "%%bash\n",
    "set -euo pipefail\n",
    "cd \"${PROJECT_DIR}\"\n",
    "source .venv/bin/activate\n",
    "\n",
    "# Show the smoke scripts where we expect them\n",
    "ls -al scripts/smoke || true\n",
    "grep -nE 'svd_smoke\\.py|aldm2_smoke\\.py' Makefile || true\n"
   ]
  },
  {
   "cell_type": "code",
   "execution_count": null,
   "id": "2b6ce354",
   "metadata": {},
   "outputs": [],
   "source": [
    "\n",
    "# Verify UNet cross_attention_dim == 1024 (if config exists)\n",
    "import json\n",
    "import pathlib\n",
    "\n",
    "cfg_path = pathlib.Path(f\"{PROJECT_DIR}/assets/models/audioldm2/unet/config.json\")\n",
    "if cfg_path.exists():\n",
    "    cfg = json.loads(cfg_path.read_text())\n",
    "    print(\"Found:\", cfg_path)\n",
    "    print(\"cross_attention_dim:\", cfg.get(\"cross_attention_dim\"))\n",
    "else:\n",
    "    print(\"No UNet config found at\", cfg_path)\n"
   ]
  },
  {
   "cell_type": "markdown",
   "id": "a7c63b62",
   "metadata": {},
   "source": [
    "\n",
    "## 5) Smoke tests\n",
    "Runs both SVD and ALDM2 quick checks.\n"
   ]
  },
  {
   "cell_type": "code",
   "execution_count": null,
   "id": "d3902633",
   "metadata": {},
   "outputs": [],
   "source": [
    "\n",
    "%%bash\n",
    "set -euo pipefail\n",
    "cd \"${PROJECT_DIR}\"\n",
    "source .venv/bin/activate\n",
    "\n",
    "# If Makefile contains smoke targets:\n",
    "if grep -q \"smoke-aldm2\" Makefile && grep -q \"smoke-svd\" Makefile; then\n",
    "  make smoke-svd\n",
    "  make smoke-aldm2\n",
    "else\n",
    "  # Fallback: call Python directly\n",
    "  python scripts/smoke/svd_smoke.py\n",
    "  python scripts/smoke/aldm2_smoke.py\n",
    "fi\n"
   ]
  }
 ],
 "metadata": {},
 "nbformat": 4,
 "nbformat_minor": 5
}
